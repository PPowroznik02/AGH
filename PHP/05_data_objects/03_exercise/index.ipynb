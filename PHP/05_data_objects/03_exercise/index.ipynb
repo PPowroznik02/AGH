{
 "cells": [
  {
   "cell_type": "markdown",
   "metadata": {},
   "source": [
    "# PHP"
   ]
  },
  {
   "cell_type": "markdown",
   "metadata": {},
   "source": [
    "## 5. PHP Data Objects"
   ]
  },
  {
   "cell_type": "markdown",
   "metadata": {},
   "source": [
    "### 5.3 Exercise"
   ]
  },
  {
   "cell_type": "markdown",
   "metadata": {},
   "source": [
    "Implement ```SessionStorage```, ```SQLiteStorage``` and ```MySQLStorage```. "
   ]
  },
  {
   "cell_type": "markdown",
   "metadata": {},
   "source": [
    "Start the databse:"
   ]
  },
  {
   "cell_type": "code",
   "execution_count": 28,
   "metadata": {},
   "outputs": [
    {
     "name": "stdout",
     "output_type": "stream",
     "text": [
      "b4299ca9fe27a8c964a3da7063d4bc56dd5a4a3b9fdb2af85ce4f3bc30b18d01\n"
     ]
    }
   ],
   "source": [
    "! docker run --name=mysql --net=host --rm --env MYSQL_ROOT_PASSWORD=root123 --env MYSQL_DATABASE=test --env MYSQL_USER=test --env MYSQL_PASSWORD=test123 -d mysql/mysql-server:8.0"
   ]
  },
  {
   "cell_type": "code",
   "execution_count": null,
   "metadata": {},
   "outputs": [],
   "source": [
    "! while ! timeout 1 bash -c \"echo > /dev/tcp/localhost/3306\" 2> /dev/null; do sleep 1; done; echo \"Done.\";"
   ]
  },
  {
   "cell_type": "markdown",
   "metadata": {},
   "source": [
    "Install the checkers:"
   ]
  },
  {
   "cell_type": "code",
   "execution_count": null,
   "metadata": {},
   "outputs": [],
   "source": [
    "! composer global require friendsofphp/php-cs-fixer phpstan/phpstan sebastian/phpcpd --dev"
   ]
  },
  {
   "cell_type": "markdown",
   "metadata": {},
   "source": [
    "Check the coding standard:"
   ]
  },
  {
   "cell_type": "code",
   "execution_count": null,
   "metadata": {},
   "outputs": [],
   "source": [
    "! ~/.composer/vendor/bin/php-cs-fixer fix --diff --dry-run project/"
   ]
  },
  {
   "cell_type": "markdown",
   "metadata": {},
   "source": [
    "Run the static analysis:"
   ]
  },
  {
   "cell_type": "code",
   "execution_count": null,
   "metadata": {},
   "outputs": [],
   "source": [
    "! ~/.composer/vendor/bin/phpstan analyze --level max project/"
   ]
  },
  {
   "cell_type": "markdown",
   "metadata": {},
   "source": [
    "You can test your solution using included tests:"
   ]
  },
  {
   "cell_type": "code",
   "execution_count": null,
   "metadata": {},
   "outputs": [],
   "source": [
    "import subprocess\n",
    "phpServer = subprocess.Popen(['php', '-S', 'localhost:8888', '-t', 'project/public'])"
   ]
  },
  {
   "cell_type": "code",
   "execution_count": 19,
   "metadata": {},
   "outputs": [
    {
     "name": "stdout",
     "output_type": "stream",
     "text": [
      "\u001b[32mInstalling dependencies from lock file (including require-dev)\u001b[39m\n",
      "\u001b[32mVerifying lock file contents can be installed on current platform.\u001b[39m\n",
      "Nothing to install, update or remove\n",
      "\u001b[32mGenerating autoload files\u001b[39m\n",
      "\u001b[32m43 packages you are using are looking for funding.\u001b[39m\n",
      "\u001b[32mUse the `composer fund` command to find out more!\u001b[39m\n",
      "Codeception PHP Testing Framework v5.1.0 https://stand-with-ukraine.pp.ua\n",
      "\n",
      "\u001b[1mTests.Acceptance Tests (5) \u001b[22m-----------------------------------------------------\n",
      "\u001b[32;1m✔\u001b[39;22m \u001b[35;1mTest01_FileStorageCest:\u001b[39;22m Test\u001b[32m(0.06s)\u001b[39m\n",
      "\u001b[32;1m✔\u001b[39;22m \u001b[35;1mTest02_SessionStorageCest:\u001b[39;22m Test\u001b[32m(0.01s)\u001b[39m\n",
      "- \u001b[35;1mTest03_SQLiteStorageCest:\u001b[39;22m Test"
     ]
    },
    {
     "name": "stderr",
     "output_type": "stream",
     "text": [
      "[Thu Apr 11 09:48:21 2024] [::1]:34934 Accepted\n",
      "[Thu Apr 11 09:48:21 2024] [::1]:34934 [200]: GET /FileStorage\n",
      "[Thu Apr 11 09:48:21 2024] [::1]:34934 Closing\n",
      "[Thu Apr 11 09:48:21 2024] [::1]:34936 Accepted\n",
      "[Thu Apr 11 09:48:21 2024] [::1]:34936 [200]: GET /SessionStorage\n",
      "[Thu Apr 11 09:48:21 2024] [::1]:34936 Closing\n",
      "[Thu Apr 11 09:48:21 2024] [::1]:34940 Accepted\n"
     ]
    },
    {
     "name": "stdout",
     "output_type": "stream",
     "text": [
      "\u001b[32;1m✔\u001b[39;22m \u001b[35;1mTest03_SQLiteStorageCest:\u001b[39;22m Test\u001b[32m(0.65s)\u001b[39m\n",
      "- \u001b[35;1mTest04_MySQLStorageCest:\u001b[39;22m Test"
     ]
    },
    {
     "name": "stderr",
     "output_type": "stream",
     "text": [
      "[Thu Apr 11 09:48:21 2024] [::1]:34940 [200]: GET /SQLiteStorage\n",
      "[Thu Apr 11 09:48:21 2024] [::1]:34940 Closing\n",
      "[Thu Apr 11 09:48:22 2024] [::1]:34944 Accepted\n",
      "[Thu Apr 11 09:48:23 2024] [::1]:34944 [200]: GET /MySQLStorage\n",
      "[Thu Apr 11 09:48:23 2024] [::1]:34944 Closing\n",
      "[Thu Apr 11 09:48:24 2024] [::1]:34960 Accepted\n"
     ]
    },
    {
     "name": "stdout",
     "output_type": "stream",
     "text": [
      "\u001b[32;1m✔\u001b[39;22m \u001b[35;1mTest04_MySQLStorageCest:\u001b[39;22m Test\u001b[32m(3.28s)\u001b[39m\n",
      "- \u001b[35;1mTest05_InteractionsCest:\u001b[39;22m Test"
     ]
    },
    {
     "name": "stderr",
     "output_type": "stream",
     "text": [
      "[Thu Apr 11 09:48:24 2024] [::1]:34960 [200]: GET /MySQLStorage\n",
      "[Thu Apr 11 09:48:24 2024] [::1]:34960 Closing\n",
      "[Thu Apr 11 09:48:25 2024] [::1]:34974 Accepted\n"
     ]
    },
    {
     "name": "stdout",
     "output_type": "stream",
     "text": [
      "\u001b[31;1m✖\u001b[39;22m \u001b[35;1mTest05_InteractionsCest:\u001b[39;22m Test\u001b[32m(0.50s)\u001b[39m\n",
      "--------------------------------------------------------------------------------\n",
      "Time: 00:04.593, Memory: 14.00 MB\n",
      "\n",
      "There was 1 failure:\n",
      "1) \u001b[35;1mTest05_InteractionsCest:\u001b[39;22m Test\n",
      "\u001b[37;41;1m Test  \u001b[39;49;22mtests/Acceptance/Test05_InteractionsCest.php:test\n",
      "\u001b[37;41;1m Step \u001b[39;49;22m See element \"input[value=widget_button_1]\"\n",
      "\u001b[37;41;1m Fail \u001b[39;49;22m Element located either by name, CSS or XPath element with 'input[value=widget_button_1]' was not found.\n",
      "\u001b[33m\n",
      "Scenario Steps:\n",
      "\u001b[39m\n",
      "\u001b[1m 13. $I->seeElement(\"input[value=widget_button_1]\")\u001b[22m at \u001b[32mtests/Support/AcceptanceTester.php:32\u001b[39m\n",
      " 12. $I->seeCurrentUrlEquals(\"/FileStorage\") at \u001b[32mtests/Acceptance/Test05_InteractionsCest.php:23\u001b[39m\n",
      " 11. $I->amOnPage(\"/FileStorage\") at \u001b[32mtests/Acceptance/Test05_InteractionsCest.php:22\u001b[39m\n",
      " 10. $I->seeFileFound(\"db.sqlite\",\"../project/storage\") at \u001b[32mtests/Acceptance/Test05_InteractionsCest.php:20\u001b[39m\n",
      " 9. $I->seeLink(\"widget_link_3\") at \u001b[32mtests/Support/AcceptanceTester.php:41\u001b[39m\n",
      " 8. $I->seeLink(\"widget_link_2\") at \u001b[32mtests/Support/AcceptanceTester.php:40\u001b[39m\n",
      "\n",
      "\u001b[33mArtifacts:\u001b[39m\n",
      "\n",
      "Html: \u001b[36m/home/student/php_2024_piotr_powroznik/05_data_objects/03_exercise/tests/tests/_output/Tests.Acceptance.Test05_InteractionsCest.test.fail.html\u001b[39m\n",
      "Response: \u001b[36m/home/student/php_2024_piotr_powroznik/05_data_objects/03_exercise/tests/tests/_output/Tests.Acceptance.Test05_InteractionsCest.test.fail.html\u001b[39m\n",
      "\n",
      "\u001b[37;41;1mFAILURES!\u001b[39;49;22m\n",
      "\u001b[37;41;1mTests: 5, Assertions: 105, Failures: 1.\u001b[39;49;22m\n"
     ]
    },
    {
     "name": "stderr",
     "output_type": "stream",
     "text": [
      "[Thu Apr 11 09:48:25 2024] [::1]:34974 [200]: GET /SQLiteStorage\n",
      "[Thu Apr 11 09:48:25 2024] [::1]:34974 Closing\n",
      "[Thu Apr 11 09:48:25 2024] [::1]:34984 Accepted\n",
      "[Thu Apr 11 09:48:25 2024] [::1]:34984 [200]: GET /FileStorage\n",
      "[Thu Apr 11 09:48:25 2024] [::1]:34984 Closing\n"
     ]
    }
   ],
   "source": [
    "! cd tests && composer install && vendor/bin/codecept run"
   ]
  },
  {
   "cell_type": "code",
   "execution_count": 20,
   "metadata": {},
   "outputs": [],
   "source": [
    "phpServer.kill()"
   ]
  },
  {
   "cell_type": "markdown",
   "metadata": {},
   "source": [
    "Check for copy-paste:"
   ]
  },
  {
   "cell_type": "code",
   "execution_count": 21,
   "metadata": {},
   "outputs": [
    {
     "name": "stdout",
     "output_type": "stream",
     "text": [
      "phpcpd 6.0.3 by Sebastian Bergmann.\n",
      "\n",
      "No clones found.\n",
      "\n",
      "Time: 00:00.002, Memory: 2.00 MB\n"
     ]
    }
   ],
   "source": [
    "! ~/.composer/vendor/bin/phpcpd --fuzzy --min-lines 1 --min-tokens 10 project/"
   ]
  },
  {
   "cell_type": "markdown",
   "metadata": {},
   "source": [
    "Edit the code:"
   ]
  },
  {
   "cell_type": "code",
   "execution_count": 26,
   "metadata": {},
   "outputs": [
    {
     "name": "stdout",
     "output_type": "stream",
     "text": [
      "CompileCommand: exclude com/intellij/openapi/vfs/impl/FilePartNodeRoot.trieDescend bool exclude = true\n",
      "2024-04-11 09:54:32,715 [   4091]   WARN - #c.i.s.ComponentManagerImpl - `preload=true` must be used only for core services (service=com.intellij.ae.database.core.baseEvents.fus.AddStatisticsEventLogListenerTemporary, plugin=com.jetbrains.ae.database)\n",
      "2024-04-11 09:54:32,717 [   4093]   WARN - #c.i.s.ComponentManagerImpl - `preload=true` must be used only for core services (service=com.jetbrains.rdserver.statistics.BackendStatisticsManager, plugin=com.jetbrains.codeWithMe)\n",
      "2024-04-11 09:54:32,877 [   4253]   WARN - #c.i.i.u.l.LafManagerImpl - VersionControl.Log.Commit.rowHeight = null in LookAndFeelThemeAdapter; it may lead to performance degradation\n",
      "2024-04-11 09:54:35,491 [   6867]   WARN - #c.i.s.ComponentManagerImpl - com.intellij.psi.search.FilenameIndex initializer requests com.intellij.ide.plugins.PluginUtil instance\n",
      "2024-04-11 09:54:36,970 [   8346]   WARN - #c.i.s.ComponentManagerImpl - com.intellij.lang.javascript.psi.jsdoc.impl.JSDocCustomTags initializer requests com.intellij.lang.javascript.JSDisposable instance\n",
      "2024-04-11 09:54:37,289 [   8665]   WARN - #c.i.o.a.i.ActionUpdater - 360 ms to grab EDT for EnableMicrophoneAction#Update@MainToolbar (com.jetbrains.rd.platform.codeWithMe.telephony.EnableMicrophoneAction)\n",
      "2024-04-11 09:54:37,290 [   8666]   WARN - #c.i.o.a.i.ActionUpdater - 389 ms to grab EDT for EnableCameraAction#Update@MainToolbar (com.jetbrains.rd.platform.codeWithMe.telephony.EnableCameraAction)\n",
      "2024-04-11 09:54:37,293 [   8669]   WARN - #c.i.o.a.i.ActionUpdater - 392 ms to grab EDT for EnableScreenSharingAction#Update@MainToolbar (com.jetbrains.rd.platform.codeWithMe.telephony.EnableScreenSharingAction)\n",
      "2024-04-11 09:54:38,411 [   9787]   WARN - #c.i.o.v.n.p.d.e.DurableEnumeratorFactory - [enumerator.mmapped]: .valueToId map is out-of-sync with .valuesLog data -> rebuilding it\n",
      "2024-04-11 09:54:38,697 [  10073]   WARN - #c.i.s.ComponentManagerImpl - org.zmlx.hg4idea.provider.HgChangeProvider initializer requests com.intellij.openapi.vcs.FileStatusFactory instance\n",
      "2024-04-11 09:54:38,722 [  10098]   WARN - #c.i.s.ComponentManagerImpl - com.intellij.psi.LanguageSubstitutors initializer requests com.intellij.psi.LanguageSubstitutors instance\n",
      "2024-04-11 09:54:40,670 [  12046]   WARN - #c.i.o.w.i.ToolWindowImpl - ToolWindow icons should be 13x13, but got: 16x16. Please fix ToolWindow (ID:  Robo tasks) or icon RasterizedImageDataLoader(classLoader=PluginClassLoader(plugin=PluginDescriptor(name=PHP, id=com.jetbrains.php, descriptorPath=plugin.xml, path=/opt/PhpStorm-233.14475.35/plugins/php-impl, version=233.14475.35, package=null, isBundled=true), packagePrefix=null, state=active), path=icons/php-icon.svg)\n",
      "2024-04-11 09:54:40,956 [  12332]   WARN - #c.i.o.a.i.ActionUpdater - 419 ms to grab EDT for ToolWindowHeader$2#Update@ToolwindowTitle (com.intellij.toolWindow.ToolWindowHeader$2)\n",
      "2024-04-11 09:54:42,278 [  13654]   WARN - #c.i.s.ComponentManagerImpl - com.intellij.lang.javascript.JSMinifiedFileUtil initializer requests com.intellij.util.gist.GistManager instance\n",
      "2024-04-11 09:54:42,978 [  14354]   WARN - #c.i.o.a.i.ActionUpdater - 551 ms to grab EDT for ToolWindowHeader$2#Update@ToolwindowTitle (com.intellij.toolWindow.ToolWindowHeader$2)\n",
      "2024-04-11 09:54:45,168 [  16544]   WARN - #c.i.o.a.i.ActionUpdater - 1544 ms to call on BGT ExecutorRegistryImpl$ExecutorAction#Update@NavBarToolbar (com.intellij.execution.ExecutorRegistryImpl$ExecutorAction)\n",
      "2024-04-11 09:54:45,350 [  16726]   WARN - #c.i.o.a.i.ActionUpdater - 1735 ms to call on BGT ExecutorRegistryImpl$ExecutorAction#Update@NavBarToolbar (com.intellij.execution.ExecutorRegistryImpl$ExecutorAction)\n",
      "2024-04-11 09:54:47,162 [  18538]   WARN - #c.i.i.s.p.i.BundledSharedIndexPostStartupActivity - Skipped 1 pre-built shared indexes: bundled-js-predefined-1d06a55b98c1-985749b364ce-JavaScript-PS-233.14475.35\n",
      "2024-04-11 09:54:47,982 [  19358]   WARN - #c.i.i.s.i.StartupManagerImpl - Migrate com.jetbrains.php.tools.quality.psalm.PsalmSettingsTransferStartupActivity to ProjectActivity [Plugin: com.intellij.php.psalm]\n",
      "com.intellij.diagnostic.PluginException: Migrate com.jetbrains.php.tools.quality.psalm.PsalmSettingsTransferStartupActivity to ProjectActivity [Plugin: com.intellij.php.psalm]\n",
      "\tat com.intellij.ide.startup.impl.StartupManagerImpl.runPostStartupActivities(StartupManagerImpl.kt:277)\n",
      "\tat com.intellij.ide.startup.impl.StartupManagerImpl.access$runPostStartupActivities(StartupManagerImpl.kt:69)\n",
      "\tat com.intellij.ide.startup.impl.StartupManagerImpl$runPostStartupActivities$3$2.invokeSuspend(StartupManagerImpl.kt:192)\n",
      "\tat com.intellij.ide.startup.impl.StartupManagerImpl$runPostStartupActivities$3$2.invoke(StartupManagerImpl.kt)\n",
      "\tat com.intellij.ide.startup.impl.StartupManagerImpl$runPostStartupActivities$3$2.invoke(StartupManagerImpl.kt)\n",
      "\tat kotlinx.coroutines.intrinsics.UndispatchedKt.startUndispatchedOrReturn(Undispatched.kt:78)\n",
      "\tat kotlinx.coroutines.BuildersKt__Builders_commonKt.withContext(Builders.common.kt:167)\n",
      "\tat kotlinx.coroutines.BuildersKt.withContext(Unknown Source)\n",
      "\tat com.intellij.ide.startup.impl.StartupManagerImpl$runPostStartupActivities$3.invokeSuspend(StartupManagerImpl.kt:191)\n",
      "\tat kotlin.coroutines.jvm.internal.BaseContinuationImpl.resumeWith(ContinuationImpl.kt:33)\n",
      "\tat kotlinx.coroutines.UndispatchedCoroutine.afterResume(CoroutineContext.kt:270)\n",
      "\tat kotlinx.coroutines.AbstractCoroutine.resumeWith(AbstractCoroutine.kt:102)\n",
      "\tat kotlin.coroutines.jvm.internal.BaseContinuationImpl.resumeWith(ContinuationImpl.kt:46)\n",
      "\tat kotlinx.coroutines.DispatchedTask.run(DispatchedTask.kt:108)\n",
      "\tat kotlinx.coroutines.scheduling.CoroutineScheduler.runSafely(CoroutineScheduler.kt:584)\n",
      "\tat kotlinx.coroutines.scheduling.CoroutineScheduler$Worker.executeTask(CoroutineScheduler.kt:793)\n",
      "\tat kotlinx.coroutines.scheduling.CoroutineScheduler$Worker.runWorker(CoroutineScheduler.kt:697)\n",
      "\tat kotlinx.coroutines.scheduling.CoroutineScheduler$Worker.run(CoroutineScheduler.kt:684)\n",
      "2024-04-11 09:54:48,054 [  19430]   WARN - #c.i.i.s.i.StartupManagerImpl - Migrate com.jetbrains.php.tools.quality.phpstan.PhpStanSettingsTransferStartupActivity to ProjectActivity [Plugin: com.intellij.php.tools.quality.phpstan]\n",
      "com.intellij.diagnostic.PluginException: Migrate com.jetbrains.php.tools.quality.phpstan.PhpStanSettingsTransferStartupActivity to ProjectActivity [Plugin: com.intellij.php.tools.quality.phpstan]\n",
      "\tat com.intellij.ide.startup.impl.StartupManagerImpl.runPostStartupActivities(StartupManagerImpl.kt:277)\n",
      "\tat com.intellij.ide.startup.impl.StartupManagerImpl.access$runPostStartupActivities(StartupManagerImpl.kt:69)\n",
      "\tat com.intellij.ide.startup.impl.StartupManagerImpl$runPostStartupActivities$3$2.invokeSuspend(StartupManagerImpl.kt:192)\n",
      "\tat com.intellij.ide.startup.impl.StartupManagerImpl$runPostStartupActivities$3$2.invoke(StartupManagerImpl.kt)\n",
      "\tat com.intellij.ide.startup.impl.StartupManagerImpl$runPostStartupActivities$3$2.invoke(StartupManagerImpl.kt)\n",
      "\tat kotlinx.coroutines.intrinsics.UndispatchedKt.startUndispatchedOrReturn(Undispatched.kt:78)\n",
      "\tat kotlinx.coroutines.BuildersKt__Builders_commonKt.withContext(Builders.common.kt:167)\n",
      "\tat kotlinx.coroutines.BuildersKt.withContext(Unknown Source)\n",
      "\tat com.intellij.ide.startup.impl.StartupManagerImpl$runPostStartupActivities$3.invokeSuspend(StartupManagerImpl.kt:191)\n",
      "\tat kotlin.coroutines.jvm.internal.BaseContinuationImpl.resumeWith(ContinuationImpl.kt:33)\n",
      "\tat kotlinx.coroutines.UndispatchedCoroutine.afterResume(CoroutineContext.kt:270)\n",
      "\tat kotlinx.coroutines.AbstractCoroutine.resumeWith(AbstractCoroutine.kt:102)\n",
      "\tat kotlin.coroutines.jvm.internal.BaseContinuationImpl.resumeWith(ContinuationImpl.kt:46)\n",
      "\tat kotlinx.coroutines.DispatchedTask.run(DispatchedTask.kt:108)\n",
      "\tat kotlinx.coroutines.scheduling.CoroutineScheduler.runSafely(CoroutineScheduler.kt:584)\n",
      "\tat kotlinx.coroutines.scheduling.CoroutineScheduler$Worker.executeTask(CoroutineScheduler.kt:793)\n",
      "\tat kotlinx.coroutines.scheduling.CoroutineScheduler$Worker.runWorker(CoroutineScheduler.kt:697)\n",
      "\tat kotlinx.coroutines.scheduling.CoroutineScheduler$Worker.run(CoroutineScheduler.kt:684)\n",
      "2024-04-11 09:54:49,339 [  20715]   WARN - #c.i.o.a.i.ActionUpdater - 1473 ms to call on BGT TabbedShowHistoryAction#Update@NavBarToolbar (com.intellij.openapi.vcs.actions.TabbedShowHistoryAction)\n",
      "2024-04-11 09:54:54,105 [  25481]   WARN - #c.i.s.ComponentManagerImpl - com.intellij.database.console.session.DatabaseSessionManager initializer requests com.intellij.database.console.session.DatabaseSessionViewService instance\n",
      "2024-04-11 09:54:56,388 [  27764]   WARN - #c.i.o.a.i.ActionUpdater - 2769 ms to grab EDT for ToolWindowHeader$2#Update@ToolwindowTitle (com.intellij.toolWindow.ToolWindowHeader$2)\n",
      "2024-04-11 09:54:56,389 [  27765]   WARN - #c.i.o.a.i.ActionUpdater - 2739 ms to grab EDT for FontEditorPreview$RestorePreviewTextAction#Update@ContextToolbar (com.intellij.application.options.colors.FontEditorPreview$RestorePreviewTextAction)\n",
      "2024-04-11 09:54:56,389 [  27765]   WARN - #c.i.o.a.i.ActionUpdater - 2736 ms to grab EDT for EditorMarkupModelImpl$TrafficLightAction#Update@EditorInspectionsToolbar (com.intellij.openapi.editor.impl.EditorMarkupModelImpl$TrafficLightAction)\n",
      "2024-04-11 09:54:56,390 [  27766]   WARN - #c.i.o.a.i.ActionUpdater - 2736 ms to grab EDT for EditorMarkupModelImpl$1#Update@EditorInspectionsToolbar (com.intellij.openapi.editor.impl.EditorMarkupModelImpl$1)\n",
      "2024-04-11 09:54:56,388 [  27764]   WARN - #c.i.o.a.i.ActionUpdater - 2740 ms to grab EDT for FontEditorPreview$ToggleBoldFontAction#Update@ContextToolbar (com.intellij.application.options.colors.FontEditorPreview$ToggleBoldFontAction)\n",
      "2024-04-11 09:54:56,459 [  27835]   WARN - #c.i.o.a.i.ActionUpdater - 5479 ms total to grab EDT 2 times to expand DefaultActionGroup@ContextToolbar (com.intellij.openapi.actionSystem.DefaultActionGroup). Use `ActionUpdateThread.BGT`.\n",
      "2024-04-11 09:54:56,463 [  27839]   WARN - #c.i.o.a.i.ActionUpdater - 5472 ms total to grab EDT 2 times to expand DefaultActionGroup@EditorInspectionsToolbar (com.intellij.openapi.actionSystem.DefaultActionGroup). Use `ActionUpdateThread.BGT`.\n",
      "2024-04-11 09:55:36,090 [  67466]   WARN - #c.i.d.PerformanceWatcherImpl - UI was frozen for 21297ms, details saved to /home/student/.cache/JetBrains/PhpStorm2023.3/log/threadDumps-freeze-20240411-095519-PS-233.14475.35-Unsafe.park-21sec\n",
      "2024-04-11 09:55:37,045 [  68421]   WARN - #c.i.o.a.i.ActionUpdater - 40400 ms to grab EDT for ToolWindowHeader$2#Update@ToolwindowTitle (com.intellij.toolWindow.ToolWindowHeader$2)\n",
      "2024-04-11 09:55:37,053 [  68429]   WARN - #c.i.o.a.i.ActionUpdater - 40352 ms to grab EDT for EditorMarkupModelImpl$TrafficLightAction#Update@EditorInspectionsToolbar (com.intellij.openapi.editor.impl.EditorMarkupModelImpl$TrafficLightAction)\n",
      "2024-04-11 09:55:37,054 [  68430]   WARN - #c.i.o.a.i.ActionUpdater - 40469 ms to grab EDT for EditorMarkupModelImpl$1#Update@EditorInspectionsToolbar (com.intellij.openapi.editor.impl.EditorMarkupModelImpl$1)\n",
      "2024-04-11 09:55:37,054 [  68430]   WARN - #c.i.o.a.i.ActionUpdater - 40470 ms to grab EDT for FontEditorPreview$RestorePreviewTextAction#Update@ContextToolbar (com.intellij.application.options.colors.FontEditorPreview$RestorePreviewTextAction)\n",
      "2024-04-11 09:55:37,055 [  68431]   WARN - #c.i.o.a.i.ActionUpdater - 40470 ms to grab EDT for FontEditorPreview$ToggleBoldFontAction#Update@ContextToolbar (com.intellij.application.options.colors.FontEditorPreview$ToggleBoldFontAction)\n",
      "2024-04-11 09:55:37,060 [  68436]   WARN - #c.i.o.a.i.ActionUpdater - 40465 ms to grab EDT for ReviewModeActionGroup#Update@EditorInspectionsToolbar (org.jetbrains.plugins.gitlab.mergerequest.ui.editor.action.ReviewModeActionGroup)\n",
      "2024-04-11 09:55:38,047 [  69423]   WARN - #c.i.u.x.Binding - no accessors for com.intellij.ide.util.TipsUsageManager$State\n",
      "2024-04-11 09:55:38,607 [  69983]   WARN - #c.i.o.a.i.ActionUpdater - 1560 ms to grab EDT for ToolWindowHeader$2#GetChildren@ToolwindowTitle (com.intellij.toolWindow.ToolWindowHeader$2)\n",
      "2024-04-11 09:55:38,608 [  69984]   WARN - #c.i.o.a.i.ActionUpdater - 80941 ms total to grab EDT 2 times to expand DefaultActionGroup@ContextToolbar (com.intellij.openapi.actionSystem.DefaultActionGroup). Use `ActionUpdateThread.BGT`.\n",
      "2024-04-11 09:55:38,609 [  69985]   WARN - #c.i.o.a.i.ActionUpdater - 121287 ms total to grab EDT 3 times to expand DefaultActionGroup@EditorInspectionsToolbar (com.intellij.openapi.actionSystem.DefaultActionGroup). Use `ActionUpdateThread.BGT`.\n",
      "2024-04-11 09:55:39,154 [  70530]   WARN - #c.i.o.a.i.ActionUpdater - 544 ms to grab EDT for DockToolWindowAction#Update@ToolwindowTitle (com.intellij.openapi.wm.impl.DockToolWindowAction)\n",
      "2024-04-11 09:55:39,155 [  70531]   WARN - #c.i.o.a.i.ActionUpdater - 545 ms to grab EDT for ExpandAllAction#Update@ToolwindowTitle (com.intellij.ide.actions.ExpandAllAction)\n",
      "2024-04-11 09:55:39,156 [  70532]   WARN - #c.i.o.a.i.ActionUpdater - 545 ms to grab EDT for CollapseAllAction#Update@ToolwindowTitle (com.intellij.ide.actions.CollapseAllAction)\n",
      "2024-04-11 09:55:39,249 [  70625]   WARN - #o.j.p.t.TextMateService - Cannot find referenced file `./language-configuration.json` in bundle `/opt/PhpStorm-233.14475.35/plugins/textmate/lib/bundles/mdx`\n",
      "2024-04-11 09:55:40,850 [  72226]   WARN - #c.i.o.a.i.ActionUpdater - 43596 ms total to grab EDT 5 times to expand ToolWindowHeader$2@ToolwindowTitle (com.intellij.toolWindow.ToolWindowHeader$2). Use `ActionUpdateThread.BGT`.\n",
      "2024-04-11 09:55:47,235 [  78611]   WARN - #c.i.o.a.i.ActionUpdater - 388 ms to grab EDT for EditorMarkupModelImpl$TrafficLightAction#Update@EditorInspectionsToolbar (com.intellij.openapi.editor.impl.EditorMarkupModelImpl$TrafficLightAction)\n",
      "2024-04-11 09:55:47,239 [  78615]   WARN - #c.i.o.a.i.ActionUpdater - 413 ms to grab EDT for EditorMarkupModelImpl$1#Update@EditorInspectionsToolbar (com.intellij.openapi.editor.impl.EditorMarkupModelImpl$1)\n",
      "2024-04-11 09:55:47,240 [  78616]   WARN - #c.i.o.a.i.ActionUpdater - 413 ms to grab EDT for ReviewModeActionGroup#Update@EditorInspectionsToolbar (org.jetbrains.plugins.gitlab.mergerequest.ui.editor.action.ReviewModeActionGroup)\n",
      "2024-04-11 09:55:47,463 [  78839]   WARN - #c.i.o.a.i.ActionUpdater - 544 ms to grab EDT for ToolWindowHeader$2#GetChildren@ToolwindowTitle (com.intellij.toolWindow.ToolWindowHeader$2)\n",
      "2024-04-11 09:56:40,923 [ 132299]   WARN - #c.i.o.a.i.ActionUpdater - 369 ms to grab EDT for FontEditorPreview$ToggleBoldFontAction#Update@ContextToolbar (com.intellij.application.options.colors.FontEditorPreview$ToggleBoldFontAction)\n",
      "2024-04-11 09:56:41,298 [ 132674]   WARN - #c.i.o.a.i.ActionUpdater - 856 ms to grab EDT for ReviewModeActionGroup#Update@EditorInspectionsToolbar (org.jetbrains.plugins.gitlab.mergerequest.ui.editor.action.ReviewModeActionGroup)\n",
      "2024-04-11 09:56:41,317 [ 132693]   WARN - #c.i.o.a.i.ActionUpdater - 780 ms to grab EDT for ToolWindowHeader$2#GetChildren@ToolwindowTitle (com.intellij.toolWindow.ToolWindowHeader$2)\n",
      "2024-04-11 09:56:41,318 [ 132694]   WARN - #c.i.o.a.i.ActionUpdater - 585 ms to grab EDT for EditorMarkupModelImpl$1#GetChildren@EditorInspectionsToolbar (com.intellij.openapi.editor.impl.EditorMarkupModelImpl$1)\n"
     ]
    }
   ],
   "source": [
    "! phpstorm project"
   ]
  },
  {
   "cell_type": "markdown",
   "metadata": {},
   "source": [
    "Stop the databse:"
   ]
  },
  {
   "cell_type": "code",
   "execution_count": 27,
   "metadata": {},
   "outputs": [
    {
     "name": "stdout",
     "output_type": "stream",
     "text": [
      "mysql\n"
     ]
    }
   ],
   "source": [
    "! docker container stop mysql"
   ]
  },
  {
   "cell_type": "code",
   "execution_count": null,
   "metadata": {},
   "outputs": [],
   "source": []
  }
 ],
 "metadata": {
  "kernelspec": {
   "display_name": "Python 3 (ipykernel)",
   "language": "python",
   "name": "python3"
  },
  "language_info": {
   "codemirror_mode": {
    "name": "ipython",
    "version": 3
   },
   "file_extension": ".py",
   "mimetype": "text/x-python",
   "name": "python",
   "nbconvert_exporter": "python",
   "pygments_lexer": "ipython3",
   "version": "3.11.5"
  }
 },
 "nbformat": 4,
 "nbformat_minor": 4
}

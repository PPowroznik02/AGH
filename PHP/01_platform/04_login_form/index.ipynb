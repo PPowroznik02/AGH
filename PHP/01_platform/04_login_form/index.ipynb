{
 "cells": [
  {
   "cell_type": "markdown",
   "metadata": {},
   "source": [
    "# PHP"
   ]
  },
  {
   "cell_type": "markdown",
   "metadata": {},
   "source": [
    "## 1. Platform"
   ]
  },
  {
   "cell_type": "markdown",
   "metadata": {},
   "source": [
    "### 1.4. Login Form"
   ]
  },
  {
   "cell_type": "markdown",
   "metadata": {},
   "source": [
    "The page should:\n",
    "\n",
    "1. Display login form\n",
    "2. Return ```EMPTY``` when either field was submitted without data\n",
    "3. Return ```ERROR``` when values are different than ```foo``` for user and ```foo123``` for password.\n",
    "4. Return ```OK``` when correct credentials are used\n",
    "\n",
    "Open PhpStorm to start editing the code:"
   ]
  },
  {
   "cell_type": "code",
   "execution_count": 3,
   "metadata": {},
   "outputs": [
    {
     "name": "stdout",
     "output_type": "stream",
     "text": [
      "CompileCommand: exclude com/intellij/openapi/vfs/impl/FilePartNodeRoot.trieDescend bool exclude = true\n",
      "2024-03-05 23:58:30,490 [    850]   WARN - #c.i.u.s.SvgCacheManager - Icon cache is corrupted (PersistentEnumerator storage corrupted /home/student/.cache/JetBrains/PhpStorm2023.3/icon-cache/icon.db)\n",
      "2024-03-05 23:58:31,796 [   2156]   WARN - #c.i.i.u.l.LafManagerImpl - VersionControl.Log.Commit.rowHeight = null in LookAndFeelThemeAdapter; it may lead to performance degradation\n",
      "2024-03-05 23:58:32,506 [   2866]   WARN - #c.i.s.ComponentManagerImpl - `preload=true` must be used only for core services (service=com.intellij.ae.database.core.baseEvents.fus.AddStatisticsEventLogListenerTemporary, plugin=com.jetbrains.ae.database)\n",
      "2024-03-05 23:58:32,509 [   2869]   WARN - #c.i.s.ComponentManagerImpl - `preload=true` must be used only for core services (service=com.jetbrains.rdserver.statistics.BackendStatisticsManager, plugin=com.jetbrains.codeWithMe)\n",
      "2024-03-05 23:58:33,650 [   4010]   WARN - #c.i.s.ComponentManagerImpl - com.intellij.psi.search.FilenameIndex initializer requests com.intellij.ide.plugins.PluginUtil instance\n",
      "2024-03-05 23:58:34,504 [   4864]   WARN - #c.i.s.ComponentManagerImpl - com.intellij.lang.javascript.psi.jsdoc.impl.JSDocCustomTags initializer requests com.intellij.lang.javascript.JSDisposable instance\n",
      "2024-03-05 23:58:38,195 [   8555]   WARN - #c.i.s.ComponentManagerImpl - org.zmlx.hg4idea.provider.HgChangeProvider initializer requests com.intellij.openapi.vcs.FileStatusFactory instance\n",
      "2024-03-05 23:58:38,213 [   8573]   WARN - #c.i.s.ComponentManagerImpl - com.intellij.psi.LanguageSubstitutors initializer requests com.intellij.psi.LanguageSubstitutors instance\n",
      "2024-03-05 23:58:40,393 [  10753]   WARN - #c.i.o.w.i.ToolWindowImpl - ToolWindow icons should be 13x13, but got: 16x16. Please fix ToolWindow (ID:  Robo tasks) or icon RasterizedImageDataLoader(classLoader=PluginClassLoader(plugin=PluginDescriptor(name=PHP, id=com.jetbrains.php, descriptorPath=plugin.xml, path=/opt/PhpStorm-233.14475.35/plugins/php-impl, version=233.14475.35, package=null, isBundled=true), packagePrefix=null, state=active), path=icons/php-icon.svg)\n",
      "2024-03-05 23:58:40,820 [  11180]   WARN - #c.i.o.a.i.ActionUpdater - 824 ms to grab EDT for ToolWindowHeader$2#Update@ToolwindowTitle (com.intellij.toolWindow.ToolWindowHeader$2)\n",
      "2024-03-05 23:58:40,836 [  11196]   WARN - #c.i.o.a.i.ActionUpdater - 530 ms to grab EDT for ToolWindowHeader$2#Update@ToolwindowTitle (com.intellij.toolWindow.ToolWindowHeader$2)\n",
      "2024-03-05 23:58:41,957 [  12317]   WARN - #c.i.o.a.i.ActionUpdater - 1136 ms to grab EDT for ToolWindowHeader$2#GetChildren@ToolwindowTitle (com.intellij.toolWindow.ToolWindowHeader$2)\n",
      "2024-03-05 23:58:41,984 [  12344]   WARN - #c.i.o.a.i.ActionUpdater - 1146 ms to grab EDT for ToolWindowHeader$2#GetChildren@ToolwindowTitle (com.intellij.toolWindow.ToolWindowHeader$2)\n",
      "2024-03-05 23:58:43,908 [  14268]   WARN - #c.i.o.a.i.ActionUpdater - 1162 ms to call on BGT ExecutorRegistryImpl$ExecutorAction#Update@NavBarToolbar (com.intellij.execution.ExecutorRegistryImpl$ExecutorAction)\n",
      "2024-03-05 23:58:43,937 [  14297]   WARN - #c.i.o.a.i.ActionUpdater - 1242 ms to call on BGT ExecutorRegistryImpl$ExecutorAction#Update@NavBarToolbar (com.intellij.execution.ExecutorRegistryImpl$ExecutorAction)\n",
      "2024-03-05 23:58:43,966 [  14326]   WARN - #c.i.o.a.i.ActionUpdater - 579 ms to grab EDT for ToolWindowHeader$2#Update@ToolwindowTitle (com.intellij.toolWindow.ToolWindowHeader$2)\n",
      "2024-03-05 23:58:43,966 [  14326]   WARN - #c.i.o.a.i.ActionUpdater - 609 ms to grab EDT for ToolWindowHeader$2#Update@ToolwindowTitle (com.intellij.toolWindow.ToolWindowHeader$2)\n",
      "2024-03-05 23:58:44,881 [  15241]   WARN - #c.i.i.s.p.i.BundledSharedIndexPostStartupActivity - Skipped 1 pre-built shared indexes: bundled-js-predefined-1d06a55b98c1-985749b364ce-JavaScript-PS-233.14475.35\n",
      "2024-03-05 23:58:45,018 [  15378]   WARN - #c.i.i.s.i.StartupManagerImpl - Migrate com.jetbrains.php.tools.quality.psalm.PsalmSettingsTransferStartupActivity to ProjectActivity [Plugin: com.intellij.php.psalm]\n",
      "com.intellij.diagnostic.PluginException: Migrate com.jetbrains.php.tools.quality.psalm.PsalmSettingsTransferStartupActivity to ProjectActivity [Plugin: com.intellij.php.psalm]\n",
      "\tat com.intellij.ide.startup.impl.StartupManagerImpl.runPostStartupActivities(StartupManagerImpl.kt:277)\n",
      "\tat com.intellij.ide.startup.impl.StartupManagerImpl.access$runPostStartupActivities(StartupManagerImpl.kt:69)\n",
      "\tat com.intellij.ide.startup.impl.StartupManagerImpl$runPostStartupActivities$3$2.invokeSuspend(StartupManagerImpl.kt:192)\n",
      "\tat com.intellij.ide.startup.impl.StartupManagerImpl$runPostStartupActivities$3$2.invoke(StartupManagerImpl.kt)\n",
      "\tat com.intellij.ide.startup.impl.StartupManagerImpl$runPostStartupActivities$3$2.invoke(StartupManagerImpl.kt)\n",
      "\tat kotlinx.coroutines.intrinsics.UndispatchedKt.startUndispatchedOrReturn(Undispatched.kt:78)\n",
      "\tat kotlinx.coroutines.BuildersKt__Builders_commonKt.withContext(Builders.common.kt:167)\n",
      "\tat kotlinx.coroutines.BuildersKt.withContext(Unknown Source)\n",
      "\tat com.intellij.ide.startup.impl.StartupManagerImpl$runPostStartupActivities$3.invokeSuspend(StartupManagerImpl.kt:191)\n",
      "\tat kotlin.coroutines.jvm.internal.BaseContinuationImpl.resumeWith(ContinuationImpl.kt:33)\n",
      "\tat kotlinx.coroutines.UndispatchedCoroutine.afterResume(CoroutineContext.kt:270)\n",
      "\tat kotlinx.coroutines.AbstractCoroutine.resumeWith(AbstractCoroutine.kt:102)\n",
      "\tat kotlin.coroutines.jvm.internal.BaseContinuationImpl.resumeWith(ContinuationImpl.kt:46)\n",
      "\tat kotlinx.coroutines.DispatchedTask.run(DispatchedTask.kt:108)\n",
      "\tat kotlinx.coroutines.scheduling.CoroutineScheduler.runSafely(CoroutineScheduler.kt:584)\n",
      "\tat kotlinx.coroutines.scheduling.CoroutineScheduler$Worker.executeTask(CoroutineScheduler.kt:793)\n",
      "\tat kotlinx.coroutines.scheduling.CoroutineScheduler$Worker.runWorker(CoroutineScheduler.kt:697)\n",
      "\tat kotlinx.coroutines.scheduling.CoroutineScheduler$Worker.run(CoroutineScheduler.kt:684)\n",
      "2024-03-05 23:58:45,064 [  15424]   WARN - #c.i.i.s.i.StartupManagerImpl - Migrate com.jetbrains.php.tools.quality.phpstan.PhpStanSettingsTransferStartupActivity to ProjectActivity [Plugin: com.intellij.php.tools.quality.phpstan]\n",
      "com.intellij.diagnostic.PluginException: Migrate com.jetbrains.php.tools.quality.phpstan.PhpStanSettingsTransferStartupActivity to ProjectActivity [Plugin: com.intellij.php.tools.quality.phpstan]\n",
      "\tat com.intellij.ide.startup.impl.StartupManagerImpl.runPostStartupActivities(StartupManagerImpl.kt:277)\n",
      "\tat com.intellij.ide.startup.impl.StartupManagerImpl.access$runPostStartupActivities(StartupManagerImpl.kt:69)\n",
      "\tat com.intellij.ide.startup.impl.StartupManagerImpl$runPostStartupActivities$3$2.invokeSuspend(StartupManagerImpl.kt:192)\n",
      "\tat com.intellij.ide.startup.impl.StartupManagerImpl$runPostStartupActivities$3$2.invoke(StartupManagerImpl.kt)\n",
      "\tat com.intellij.ide.startup.impl.StartupManagerImpl$runPostStartupActivities$3$2.invoke(StartupManagerImpl.kt)\n",
      "\tat kotlinx.coroutines.intrinsics.UndispatchedKt.startUndispatchedOrReturn(Undispatched.kt:78)\n",
      "\tat kotlinx.coroutines.BuildersKt__Builders_commonKt.withContext(Builders.common.kt:167)\n",
      "\tat kotlinx.coroutines.BuildersKt.withContext(Unknown Source)\n",
      "\tat com.intellij.ide.startup.impl.StartupManagerImpl$runPostStartupActivities$3.invokeSuspend(StartupManagerImpl.kt:191)\n",
      "\tat kotlin.coroutines.jvm.internal.BaseContinuationImpl.resumeWith(ContinuationImpl.kt:33)\n",
      "\tat kotlinx.coroutines.UndispatchedCoroutine.afterResume(CoroutineContext.kt:270)\n",
      "\tat kotlinx.coroutines.AbstractCoroutine.resumeWith(AbstractCoroutine.kt:102)\n",
      "\tat kotlin.coroutines.jvm.internal.BaseContinuationImpl.resumeWith(ContinuationImpl.kt:46)\n",
      "\tat kotlinx.coroutines.DispatchedTask.run(DispatchedTask.kt:108)\n",
      "\tat kotlinx.coroutines.scheduling.CoroutineScheduler.runSafely(CoroutineScheduler.kt:584)\n",
      "\tat kotlinx.coroutines.scheduling.CoroutineScheduler$Worker.executeTask(CoroutineScheduler.kt:793)\n",
      "\tat kotlinx.coroutines.scheduling.CoroutineScheduler$Worker.runWorker(CoroutineScheduler.kt:697)\n",
      "\tat kotlinx.coroutines.scheduling.CoroutineScheduler$Worker.run(CoroutineScheduler.kt:684)\n",
      "2024-03-05 23:58:46,494 [  16854]   WARN - #c.i.s.ComponentManagerImpl - com.intellij.database.console.session.DatabaseSessionManager initializer requests com.intellij.database.console.session.DatabaseSessionViewService instance\n",
      "2024-03-05 23:58:46,594 [  16954]   WARN - #c.i.o.v.n.p.d.e.DurableEnumeratorFactory - [enumerator.mmapped]: .valueToId map is out-of-sync with .valuesLog data -> rebuilding it\n",
      "2024-03-05 23:58:50,576 [  20936]   WARN - #c.i.s.ComponentManagerImpl - com.intellij.tailwind.TailwindElementDescriptorProvider initializer requests com.intellij.psi.css.impl.util.scheme.CssElementDescriptorFactory2 instance\n",
      "2024-03-05 23:59:31,799 [  62159]   WARN - #c.i.u.x.Binding - no accessors for com.intellij.ide.util.TipsUsageManager$State\n",
      "2024-03-06 00:11:37,725 [ 788085]   WARN - #o.j.p.t.TextMateService - Cannot find referenced file `./language-configuration.json` in bundle `/opt/PhpStorm-233.14475.35/plugins/textmate/lib/bundles/mdx`\n",
      "2024-03-06 00:11:51,976 [ 802336]   WARN - #c.i.s.ComponentManagerImpl - com.intellij.psi.codeStyle.CodeStyleSettingsCustomizable initializer requests com.intellij.util.LocaleSensitiveApplicationCacheService instance\n"
     ]
    },
    {
     "name": "stderr",
     "output_type": "stream",
     "text": [
      "[Wed Mar  6 00:13:54 2024] [::1]:35452 Accepted\n",
      "[Wed Mar  6 00:13:54 2024] [::1]:35452 [200]: GET /\n",
      "[Wed Mar  6 00:13:54 2024] [::1]:35452 Closing\n",
      "[Wed Mar  6 00:13:54 2024] [::1]:35458 Accepted\n",
      "[Wed Mar  6 00:13:54 2024] [::1]:35472 Accepted\n",
      "[Wed Mar  6 00:13:55 2024] [::1]:35458 [200]: GET /\n",
      "[Wed Mar  6 00:13:55 2024] [::1]:35458 Closing\n",
      "[Wed Mar  6 00:13:55 2024] [::1]:35480 Accepted\n",
      "[Wed Mar  6 00:14:01 2024] [::1]:35472 [200]: GET /index.php?user=foo&password=foo123&submit=Login\n",
      "[Wed Mar  6 00:14:01 2024] [::1]:35472 Closing\n",
      "[Wed Mar  6 00:14:01 2024] [::1]:35718 Accepted\n",
      "[Wed Mar  6 00:15:23 2024] [::1]:35480 Closed without sending a request; it was probably just an unused speculative preconnection\n",
      "[Wed Mar  6 00:15:23 2024] [::1]:35480 Closing\n",
      "[Wed Mar  6 00:15:23 2024] [::1]:35718 Closed without sending a request; it was probably just an unused speculative preconnection\n",
      "[Wed Mar  6 00:15:23 2024] [::1]:35718 Closing\n",
      "[Wed Mar  6 21:13:24 2024] [::1]:58986 Accepted\n",
      "[Wed Mar  6 21:13:24 2024] [::1]:58994 Accepted\n",
      "[Wed Mar  6 21:13:24 2024] [::1]:58986 [200]: GET /index.php?user=foo&password=foo123&submit=Login\n",
      "[Wed Mar  6 21:13:24 2024] [::1]:58986 Closing\n",
      "[Wed Mar  6 21:13:26 2024] [::1]:58994 [200]: GET /index.php?user=foo&password=foo123&submit=Login\n",
      "[Wed Mar  6 21:13:26 2024] [::1]:58994 Closing\n",
      "[Wed Mar  6 21:13:26 2024] [::1]:59004 Accepted\n",
      "[Wed Mar  6 21:13:27 2024] [::1]:59004 [200]: GET /index.php?user=foo&password=foo123&submit=Login\n",
      "[Wed Mar  6 21:13:27 2024] [::1]:59004 Closing\n",
      "[Wed Mar  6 21:13:27 2024] [::1]:59010 Accepted\n",
      "[Wed Mar  6 21:13:27 2024] [::1]:59014 Accepted\n",
      "[Wed Mar  6 21:13:32 2024] [::1]:59010 [200]: GET /index.php\n",
      "[Wed Mar  6 21:13:32 2024] [::1]:59010 Closing\n",
      "[Wed Mar  6 21:13:32 2024] [::1]:59022 Accepted\n",
      "[Wed Mar  6 21:13:38 2024] [::1]:59014 [200]: GET /index.php?user=foo&password=foo123&submit=Login\n",
      "[Wed Mar  6 21:13:38 2024] [::1]:59014 Closing\n",
      "[Wed Mar  6 21:13:40 2024] [::1]:59022 [200]: GET /index.php?user=foo&password=foo123&submit=Login\n",
      "[Wed Mar  6 21:13:40 2024] [::1]:59022 Closing\n",
      "[Wed Mar  6 21:13:40 2024] [::1]:33726 Accepted\n",
      "[Wed Mar  6 21:13:40 2024] [::1]:33738 Accepted\n",
      "[Wed Mar  6 21:13:40 2024] [::1]:33726 [200]: GET /index.php?user=foo&password=foo123&submit=Login\n",
      "[Wed Mar  6 21:13:40 2024] [::1]:33726 Closing\n",
      "[Wed Mar  6 21:13:40 2024] [::1]:33738 [200]: GET /index.php?user=foo&password=foo123&submit=Login\n",
      "[Wed Mar  6 21:13:40 2024] [::1]:33738 Closing\n",
      "[Wed Mar  6 21:13:40 2024] [::1]:33748 Accepted\n",
      "[Wed Mar  6 21:13:41 2024] [::1]:33748 [200]: GET /index.php?user=foo&password=foo123&submit=Login\n",
      "[Wed Mar  6 21:13:41 2024] [::1]:33748 Closing\n",
      "[Wed Mar  6 21:13:41 2024] [::1]:33754 Accepted\n",
      "[Wed Mar  6 21:13:43 2024] [::1]:33754 [200]: GET /index.php\n",
      "[Wed Mar  6 21:13:43 2024] [::1]:33754 Closing\n",
      "[Wed Mar  6 21:13:43 2024] [::1]:35852 Accepted\n",
      "[Wed Mar  6 21:13:43 2024] [::1]:35866 Accepted\n",
      "[Wed Mar  6 21:13:48 2024] [::1]:35852 [200]: GET /index.php?user=sda&password=dsfds&submit=Login\n",
      "[Wed Mar  6 21:13:48 2024] [::1]:35852 Closing\n",
      "[Wed Mar  6 21:13:48 2024] [::1]:35868 Accepted\n",
      "[Wed Mar  6 21:15:12 2024] [::1]:35868 Closed without sending a request; it was probably just an unused speculative preconnection\n",
      "[Wed Mar  6 21:15:12 2024] [::1]:35868 Closing\n",
      "[Wed Mar  6 21:15:12 2024] [::1]:35866 Closed without sending a request; it was probably just an unused speculative preconnection\n",
      "[Wed Mar  6 21:15:12 2024] [::1]:35866 Closing\n"
     ]
    }
   ],
   "source": [
    "! phpstorm project"
   ]
  },
  {
   "cell_type": "markdown",
   "metadata": {},
   "source": [
    "<img src=\"images/01_start.jpg\"/>\n",
    "<img src=\"images/02_empty.jpg\"/>\n",
    "<img src=\"images/03_go_back.jpg\"/>\n",
    "<img src=\"images/04_login_foo_foo.jpg\"/>\n",
    "<img src=\"images/05_error_with_password_save.jpg\"/>\n",
    "<img src=\"images/06_go_back.jpg\"/>\n",
    "<img src=\"images/07_login_foo_foo123.jpg\"/>\n",
    "<img src=\"images/08_ok_with_password_warning.jpg\"/>\n",
    "<img src=\"images/09_exit.jpg\"/>"
   ]
  },
  {
   "cell_type": "markdown",
   "metadata": {},
   "source": [
    "You can test your solution using included tests:"
   ]
  },
  {
   "cell_type": "code",
   "execution_count": 1,
   "metadata": {},
   "outputs": [
    {
     "name": "stderr",
     "output_type": "stream",
     "text": [
      "[Tue Mar  5 23:47:48 2024] PHP 8.3.0-1ubuntu1 Development Server (http://localhost:8888) started\n",
      "[Tue Mar  5 23:47:58 2024] [::1]:51442 Accepted\n",
      "[Tue Mar  5 23:47:58 2024] [::1]:51442 [200]: GET /\n",
      "[Tue Mar  5 23:47:58 2024] [::1]:51442 Closing\n",
      "[Tue Mar  5 23:47:58 2024] [::1]:51448 Accepted\n",
      "[Tue Mar  5 23:47:58 2024] [::1]:51450 Accepted\n",
      "[Tue Mar  5 23:47:58 2024] [::1]:51448 [404]: GET /favicon.ico - No such file or directory\n",
      "[Tue Mar  5 23:47:58 2024] [::1]:51448 Closing\n",
      "[Tue Mar  5 23:48:00 2024] [::1]:51450 [200]: POST /index.php\n",
      "[Tue Mar  5 23:48:00 2024] [::1]:51450 Closing\n",
      "[Tue Mar  5 23:48:00 2024] [::1]:48762 Accepted\n"
     ]
    }
   ],
   "source": [
    "import subprocess\n",
    "phpServer = subprocess.Popen(['php', '-S', 'localhost:8888', '-t', 'project/'])"
   ]
  },
  {
   "cell_type": "code",
   "execution_count": 4,
   "metadata": {},
   "outputs": [
    {
     "name": "stdout",
     "output_type": "stream",
     "text": [
      "\u001b[32mInstalling dependencies from lock file (including require-dev)\u001b[39m\n",
      "\u001b[32mVerifying lock file contents can be installed on current platform.\u001b[39m\n",
      "Nothing to install, update or remove\n",
      "\u001b[32mGenerating autoload files\u001b[39m\n",
      "\u001b[32m43 packages you are using are looking for funding.\u001b[39m\n",
      "\u001b[32mUse the `composer fund` command to find out more!\u001b[39m\n",
      "Codeception PHP Testing Framework v5.1.0 https://stand-with-ukraine.pp.ua\n",
      "\n",
      "\u001b[1mTests.Acceptance Tests (1) \u001b[22m-----------------------------------------------------\n",
      "\u001b[32;1m✔\u001b[39;22m \u001b[35;1mTest01_LoginFormCest:\u001b[39;22m Test\u001b[32m(0.06s)\u001b[39m\n",
      "--------------------------------------------------------------------------------\n",
      "Time: 00:00.167, Memory: 14.00 MB\n",
      "\n",
      "\u001b[30;42mOK (1 test, 4 assertions)\u001b[39;49m\n"
     ]
    },
    {
     "name": "stderr",
     "output_type": "stream",
     "text": [
      "[Thu Mar  7 16:06:46 2024] [::1]:38322 Accepted\n",
      "[Thu Mar  7 16:06:46 2024] [::1]:38322 [200]: GET /\n",
      "[Thu Mar  7 16:06:46 2024] [::1]:38322 Closing\n",
      "[Thu Mar  7 16:06:46 2024] [::1]:38330 Accepted\n",
      "[Thu Mar  7 16:06:46 2024] [::1]:38330 [200]: POST /index.php\n",
      "[Thu Mar  7 16:06:46 2024] [::1]:38330 Closing\n",
      "[Thu Mar  7 16:06:46 2024] [::1]:38334 Accepted\n",
      "[Thu Mar  7 16:06:46 2024] [::1]:38334 [200]: GET /\n",
      "[Thu Mar  7 16:06:46 2024] [::1]:38334 Closing\n",
      "[Thu Mar  7 16:06:46 2024] [::1]:38348 Accepted\n",
      "[Thu Mar  7 16:06:46 2024] [::1]:38348 [200]: POST /index.php\n",
      "[Thu Mar  7 16:06:46 2024] [::1]:38348 Closing\n",
      "[Thu Mar  7 16:06:46 2024] [::1]:38364 Accepted\n",
      "[Thu Mar  7 16:06:46 2024] [::1]:38364 [200]: GET /\n",
      "[Thu Mar  7 16:06:46 2024] [::1]:38364 Closing\n",
      "[Thu Mar  7 16:06:46 2024] [::1]:38370 Accepted\n",
      "[Thu Mar  7 16:06:46 2024] [::1]:38370 [200]: POST /index.php\n",
      "[Thu Mar  7 16:06:46 2024] [::1]:38370 Closing\n",
      "[Thu Mar  7 16:06:46 2024] [::1]:38386 Accepted\n",
      "[Thu Mar  7 16:06:46 2024] [::1]:38386 [200]: GET /\n",
      "[Thu Mar  7 16:06:46 2024] [::1]:38386 Closing\n",
      "[Thu Mar  7 16:06:46 2024] [::1]:38396 Accepted\n",
      "[Thu Mar  7 16:06:46 2024] [::1]:38396 [200]: POST /index.php\n",
      "[Thu Mar  7 16:06:46 2024] [::1]:38396 Closing\n"
     ]
    }
   ],
   "source": [
    "! cd tests && composer install && vendor/bin/codecept run"
   ]
  },
  {
   "cell_type": "code",
   "execution_count": 5,
   "metadata": {},
   "outputs": [],
   "source": [
    "phpServer.kill()"
   ]
  },
  {
   "cell_type": "code",
   "execution_count": null,
   "metadata": {},
   "outputs": [],
   "source": []
  }
 ],
 "metadata": {
  "kernelspec": {
   "display_name": "Python 3 (ipykernel)",
   "language": "python",
   "name": "python3"
  },
  "language_info": {
   "codemirror_mode": {
    "name": "ipython",
    "version": 3
   },
   "file_extension": ".py",
   "mimetype": "text/x-python",
   "name": "python",
   "nbconvert_exporter": "python",
   "pygments_lexer": "ipython3",
   "version": "3.11.5"
  }
 },
 "nbformat": 4,
 "nbformat_minor": 4
}

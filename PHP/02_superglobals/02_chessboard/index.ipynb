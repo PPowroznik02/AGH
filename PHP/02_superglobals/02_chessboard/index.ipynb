{
 "cells": [
  {
   "cell_type": "markdown",
   "metadata": {},
   "source": [
    "# PHP"
   ]
  },
  {
   "cell_type": "markdown",
   "metadata": {},
   "source": [
    "## 2. Superglobals"
   ]
  },
  {
   "cell_type": "markdown",
   "metadata": {},
   "source": [
    "### 2.2 Chessboard"
   ]
  },
  {
   "cell_type": "markdown",
   "metadata": {},
   "source": [
    "Requirements:\n",
    "\n",
    "- The colour of the array is sored in a cookie\n",
    "- The default colour is grey, but it can be changed to magenta, yellow and cyan\n",
    "- The size of the chessboard is stored in the session and can be configured using the post method\n",
    "- The default size is 5 rows by 5 columns\n",
    "- The array is constructed from links that can be clicked\n",
    "- After clicking two points, a white line is drawn between the points\n",
    "- Multiple lines can be added\n",
    "\n",
    "When in doubt, run the acceptance tests :)"
   ]
  },
  {
   "cell_type": "markdown",
   "metadata": {},
   "source": [
    "To start editing run:"
   ]
  },
  {
   "cell_type": "code",
   "execution_count": null,
   "metadata": {},
   "outputs": [
    {
     "name": "stdout",
     "output_type": "stream",
     "text": [
      "CompileCommand: exclude com/intellij/openapi/vfs/impl/FilePartNodeRoot.trieDescend bool exclude = true\n",
      "2024-03-14 10:09:22,964 [    758]   WARN - #c.i.s.ComponentManagerImpl - `preload=true` must be used only for core services (service=com.intellij.ae.database.core.baseEvents.fus.AddStatisticsEventLogListenerTemporary, plugin=com.jetbrains.ae.database)\n",
      "2024-03-14 10:09:22,967 [    761]   WARN - #c.i.s.ComponentManagerImpl - `preload=true` must be used only for core services (service=com.jetbrains.rdserver.statistics.BackendStatisticsManager, plugin=com.jetbrains.codeWithMe)\n",
      "2024-03-14 10:09:23,049 [    843]   WARN - #c.i.i.u.l.LafManagerImpl - VersionControl.Log.Commit.rowHeight = null in LookAndFeelThemeAdapter; it may lead to performance degradation\n",
      "2024-03-14 10:09:23,827 [   1621]   WARN - #c.i.s.ComponentManagerImpl - com.intellij.platform.ide.menu.GlobalMenuLinux initializer requests com.intellij.openapi.application.Experiments instance\n",
      "2024-03-14 10:09:24,472 [   2266]   WARN - #c.i.s.ComponentManagerImpl - com.intellij.psi.search.FilenameIndex initializer requests com.intellij.ide.plugins.PluginUtil instance\n",
      "2024-03-14 10:09:25,234 [   3028]   WARN - #c.i.s.ComponentManagerImpl - com.intellij.psi.LanguageSubstitutors initializer requests com.intellij.psi.LanguageSubstitutors instance\n",
      "2024-03-14 10:09:25,269 [   3063]   WARN - #c.i.s.ComponentManagerImpl - org.zmlx.hg4idea.provider.HgChangeProvider initializer requests com.intellij.openapi.vcs.FileStatusFactory instance\n",
      "2024-03-14 10:09:25,464 [   3258]   WARN - #c.i.s.ComponentManagerImpl - com.intellij.lang.javascript.psi.jsdoc.impl.JSDocCustomTags initializer requests com.intellij.lang.javascript.JSDisposable instance\n",
      "2024-03-14 10:09:26,201 [   3995]   WARN - #c.i.o.v.n.p.d.e.DurableEnumeratorFactory - [enumerator.mmapped]: .valueToId map is out-of-sync with .valuesLog data -> rebuilding it\n",
      "2024-03-14 10:09:26,443 [   4237]   WARN - #c.i.o.w.i.ToolWindowImpl - ToolWindow icons should be 13x13, but got: 16x16. Please fix ToolWindow (ID:  Robo tasks) or icon RasterizedImageDataLoader(classLoader=PluginClassLoader(plugin=PluginDescriptor(name=PHP, id=com.jetbrains.php, descriptorPath=plugin.xml, path=/opt/PhpStorm-233.14475.35/plugins/php-impl, version=233.14475.35, package=null, isBundled=true), packagePrefix=null, state=active), path=icons/php-icon.svg)\n",
      "2024-03-14 10:09:26,783 [   4577]   WARN - #c.i.o.a.i.ActionUpdater - 359 ms to grab EDT for ToolWindowHeader$2#Update@ToolwindowTitle (com.intellij.toolWindow.ToolWindowHeader$2)\n",
      "2024-03-14 10:09:28,551 [   6345]   WARN - #c.i.o.a.i.ActionUpdater - 656 ms to grab EDT for ToolWindowHeader$2#Update@ToolwindowTitle (com.intellij.toolWindow.ToolWindowHeader$2)\n",
      "2024-03-14 10:09:29,417 [   7211]   WARN - #c.i.i.s.p.i.BundledSharedIndexPostStartupActivity - Skipped 1 pre-built shared indexes: bundled-js-predefined-1d06a55b98c1-985749b364ce-JavaScript-PS-233.14475.35\n",
      "2024-03-14 10:09:29,642 [   7436]   WARN - #c.i.i.s.i.StartupManagerImpl - Migrate com.jetbrains.php.tools.quality.psalm.PsalmSettingsTransferStartupActivity to ProjectActivity [Plugin: com.intellij.php.psalm]\n",
      "com.intellij.diagnostic.PluginException: Migrate com.jetbrains.php.tools.quality.psalm.PsalmSettingsTransferStartupActivity to ProjectActivity [Plugin: com.intellij.php.psalm]\n",
      "\tat com.intellij.ide.startup.impl.StartupManagerImpl.runPostStartupActivities(StartupManagerImpl.kt:277)\n",
      "\tat com.intellij.ide.startup.impl.StartupManagerImpl.access$runPostStartupActivities(StartupManagerImpl.kt:69)\n",
      "\tat com.intellij.ide.startup.impl.StartupManagerImpl$runPostStartupActivities$3$2.invokeSuspend(StartupManagerImpl.kt:192)\n",
      "\tat com.intellij.ide.startup.impl.StartupManagerImpl$runPostStartupActivities$3$2.invoke(StartupManagerImpl.kt)\n",
      "\tat com.intellij.ide.startup.impl.StartupManagerImpl$runPostStartupActivities$3$2.invoke(StartupManagerImpl.kt)\n",
      "\tat kotlinx.coroutines.intrinsics.UndispatchedKt.startUndispatchedOrReturn(Undispatched.kt:78)\n",
      "\tat kotlinx.coroutines.BuildersKt__Builders_commonKt.withContext(Builders.common.kt:167)\n",
      "\tat kotlinx.coroutines.BuildersKt.withContext(Unknown Source)\n",
      "\tat com.intellij.ide.startup.impl.StartupManagerImpl$runPostStartupActivities$3.invokeSuspend(StartupManagerImpl.kt:191)\n",
      "\tat kotlin.coroutines.jvm.internal.BaseContinuationImpl.resumeWith(ContinuationImpl.kt:33)\n",
      "\tat kotlinx.coroutines.UndispatchedCoroutine.afterResume(CoroutineContext.kt:270)\n",
      "\tat kotlinx.coroutines.AbstractCoroutine.resumeWith(AbstractCoroutine.kt:102)\n",
      "\tat kotlin.coroutines.jvm.internal.BaseContinuationImpl.resumeWith(ContinuationImpl.kt:46)\n",
      "\tat kotlinx.coroutines.DispatchedTask.run(DispatchedTask.kt:108)\n",
      "\tat kotlinx.coroutines.scheduling.CoroutineScheduler.runSafely(CoroutineScheduler.kt:584)\n",
      "\tat kotlinx.coroutines.scheduling.CoroutineScheduler$Worker.executeTask(CoroutineScheduler.kt:793)\n",
      "\tat kotlinx.coroutines.scheduling.CoroutineScheduler$Worker.runWorker(CoroutineScheduler.kt:697)\n",
      "\tat kotlinx.coroutines.scheduling.CoroutineScheduler$Worker.run(CoroutineScheduler.kt:684)\n",
      "2024-03-14 10:09:29,659 [   7453]   WARN - #c.i.i.s.i.StartupManagerImpl - Migrate com.jetbrains.php.tools.quality.phpstan.PhpStanSettingsTransferStartupActivity to ProjectActivity [Plugin: com.intellij.php.tools.quality.phpstan]\n",
      "com.intellij.diagnostic.PluginException: Migrate com.jetbrains.php.tools.quality.phpstan.PhpStanSettingsTransferStartupActivity to ProjectActivity [Plugin: com.intellij.php.tools.quality.phpstan]\n",
      "\tat com.intellij.ide.startup.impl.StartupManagerImpl.runPostStartupActivities(StartupManagerImpl.kt:277)\n",
      "\tat com.intellij.ide.startup.impl.StartupManagerImpl.access$runPostStartupActivities(StartupManagerImpl.kt:69)\n",
      "\tat com.intellij.ide.startup.impl.StartupManagerImpl$runPostStartupActivities$3$2.invokeSuspend(StartupManagerImpl.kt:192)\n",
      "\tat com.intellij.ide.startup.impl.StartupManagerImpl$runPostStartupActivities$3$2.invoke(StartupManagerImpl.kt)\n",
      "\tat com.intellij.ide.startup.impl.StartupManagerImpl$runPostStartupActivities$3$2.invoke(StartupManagerImpl.kt)\n",
      "\tat kotlinx.coroutines.intrinsics.UndispatchedKt.startUndispatchedOrReturn(Undispatched.kt:78)\n",
      "\tat kotlinx.coroutines.BuildersKt__Builders_commonKt.withContext(Builders.common.kt:167)\n",
      "\tat kotlinx.coroutines.BuildersKt.withContext(Unknown Source)\n",
      "\tat com.intellij.ide.startup.impl.StartupManagerImpl$runPostStartupActivities$3.invokeSuspend(StartupManagerImpl.kt:191)\n",
      "\tat kotlin.coroutines.jvm.internal.BaseContinuationImpl.resumeWith(ContinuationImpl.kt:33)\n",
      "\tat kotlinx.coroutines.UndispatchedCoroutine.afterResume(CoroutineContext.kt:270)\n",
      "\tat kotlinx.coroutines.AbstractCoroutine.resumeWith(AbstractCoroutine.kt:102)\n",
      "\tat kotlin.coroutines.jvm.internal.BaseContinuationImpl.resumeWith(ContinuationImpl.kt:46)\n",
      "\tat kotlinx.coroutines.DispatchedTask.run(DispatchedTask.kt:108)\n",
      "\tat kotlinx.coroutines.scheduling.CoroutineScheduler.runSafely(CoroutineScheduler.kt:584)\n",
      "\tat kotlinx.coroutines.scheduling.CoroutineScheduler$Worker.executeTask(CoroutineScheduler.kt:793)\n",
      "\tat kotlinx.coroutines.scheduling.CoroutineScheduler$Worker.runWorker(CoroutineScheduler.kt:697)\n",
      "\tat kotlinx.coroutines.scheduling.CoroutineScheduler$Worker.run(CoroutineScheduler.kt:684)\n",
      "2024-03-14 10:09:29,998 [   7792]   WARN - #c.i.s.ComponentManagerImpl - com.intellij.database.console.session.DatabaseSessionManager initializer requests com.intellij.database.console.session.DatabaseSessionViewService instance\n"
     ]
    }
   ],
   "source": [
    "! phpstorm project"
   ]
  },
  {
   "cell_type": "markdown",
   "metadata": {},
   "source": [
    "Working application:\n",
    "\n",
    "![01_initial](images/01_initial.jpg)\n",
    "![02_click](images/02_click.jpg)\n",
    "![03_clicked](images/03_clicked.jpg)\n",
    "![04_click](images/04_click.jpg)\n",
    "![05_clicked](images/05_clicked.jpg)\n",
    "![06_change](images/06_change.jpg)\n",
    "![07_changed](images/07_changed.jpg)\n",
    "![08_color_change](images/08_color_change.jpg)\n",
    "![09_color_changed](images/09_color_changed.jpg)\n",
    "\n",
    "More advanced example:\n",
    "\n",
    "![11_restart](images/11_restart.jpg)\n",
    "![12_click](images/12_click.jpg)\n",
    "![13_click](images/13_click.jpg)\n",
    "![14_click](images/14_click.jpg)\n",
    "![15_click](images/15_click.jpg)\n",
    "![16_done](images/16_done.jpg)"
   ]
  },
  {
   "cell_type": "markdown",
   "metadata": {},
   "source": [
    "You can test your solution using included tests:"
   ]
  },
  {
   "cell_type": "code",
   "execution_count": 40,
   "metadata": {},
   "outputs": [
    {
     "name": "stderr",
     "output_type": "stream",
     "text": [
      "[Thu Mar 14 09:51:08 2024] PHP 8.3.0-1ubuntu1 Development Server (http://localhost:8888) started\n"
     ]
    }
   ],
   "source": [
    "import subprocess\n",
    "phpServer = subprocess.Popen(['php', '-S', 'localhost:8888', '-t', 'project/'])"
   ]
  },
  {
   "cell_type": "code",
   "execution_count": 41,
   "metadata": {},
   "outputs": [
    {
     "name": "stdout",
     "output_type": "stream",
     "text": [
      "\u001b[32mInstalling dependencies from lock file (including require-dev)\u001b[39m\n",
      "\u001b[32mVerifying lock file contents can be installed on current platform.\u001b[39m\n",
      "Nothing to install, update or remove\n",
      "\u001b[32mGenerating autoload files\u001b[39m\n",
      "\u001b[32m43 packages you are using are looking for funding.\u001b[39m\n",
      "\u001b[32mUse the `composer fund` command to find out more!\u001b[39m\n",
      "Codeception PHP Testing Framework v5.1.0 https://stand-with-ukraine.pp.ua\n",
      "\n",
      "\u001b[1mTests.Acceptance Tests (4) \u001b[22m-----------------------------------------------------\n",
      "\u001b[32;1m✔\u001b[39;22m \u001b[35;1mTest01_ColorCest:\u001b[39;22m Test\u001b[32m(0.17s)\u001b[39m\n",
      "- \u001b[35;1mTest02_SizeCest:\u001b[39;22m Test"
     ]
    },
    {
     "name": "stderr",
     "output_type": "stream",
     "text": [
      "[Thu Mar 14 09:51:10 2024] [::1]:58380 Accepted\n",
      "[Thu Mar 14 09:51:10 2024] [::1]:58380 [200]: GET /\n",
      "[Thu Mar 14 09:51:10 2024] [::1]:58380 Closing\n",
      "[Thu Mar 14 09:51:10 2024] [::1]:58394 Accepted\n",
      "[Thu Mar 14 09:51:10 2024] [::1]:58394 [200]: POST /\n",
      "[Thu Mar 14 09:51:10 2024] [::1]:58394 Closing\n",
      "[Thu Mar 14 09:51:10 2024] [::1]:58404 Accepted\n",
      "[Thu Mar 14 09:51:10 2024] [::1]:58404 [200]: POST /\n",
      "[Thu Mar 14 09:51:10 2024] [::1]:58404 Closing\n",
      "[Thu Mar 14 09:51:10 2024] [::1]:58416 Accepted\n",
      "[Thu Mar 14 09:51:10 2024] [::1]:58416 [200]: POST /\n",
      "[Thu Mar 14 09:51:10 2024] [::1]:58416 Closing\n",
      "[Thu Mar 14 09:51:10 2024] [::1]:58428 Accepted\n",
      "[Thu Mar 14 09:51:10 2024] [::1]:58428 [200]: GET /\n",
      "[Thu Mar 14 09:51:10 2024] [::1]:58428 Closing\n",
      "[Thu Mar 14 09:51:10 2024] [::1]:58434 Accepted\n",
      "[Thu Mar 14 09:51:10 2024] [::1]:58434 [200]: GET /\n",
      "[Thu Mar 14 09:51:10 2024] [::1]:58434 Closing\n",
      "[Thu Mar 14 09:51:10 2024] [::1]:58442 Accepted\n",
      "[Thu Mar 14 09:51:10 2024] [::1]:58442 [200]: POST /\n",
      "[Thu Mar 14 09:51:10 2024] [::1]:58442 Closing\n",
      "[Thu Mar 14 09:51:10 2024] [::1]:58446 Accepted\n",
      "[Thu Mar 14 09:51:10 2024] [::1]:58446 [200]: POST /\n",
      "[Thu Mar 14 09:51:10 2024] [::1]:58446 Closing\n",
      "[Thu Mar 14 09:51:10 2024] [::1]:58452 Accepted\n",
      "[Thu Mar 14 09:51:10 2024] [::1]:58452 [200]: POST /\n",
      "[Thu Mar 14 09:51:10 2024] [::1]:58452 Closing\n",
      "[Thu Mar 14 09:51:10 2024] [::1]:58456 Accepted\n",
      "[Thu Mar 14 09:51:10 2024] [::1]:58456 [200]: POST /\n",
      "[Thu Mar 14 09:51:10 2024] [::1]:58456 Closing\n",
      "[Thu Mar 14 09:51:10 2024] [::1]:58464 Accepted\n",
      "[Thu Mar 14 09:51:10 2024] [::1]:58464 [200]: POST /\n",
      "[Thu Mar 14 09:51:10 2024] [::1]:58464 Closing\n",
      "[Thu Mar 14 09:51:10 2024] [::1]:58468 Accepted\n",
      "[Thu Mar 14 09:51:10 2024] [::1]:58468 [200]: GET /\n",
      "[Thu Mar 14 09:51:10 2024] [::1]:58468 Closing\n"
     ]
    },
    {
     "name": "stdout",
     "output_type": "stream",
     "text": [
      "\u001b[32;1m✔\u001b[39;22m \u001b[35;1mTest02_SizeCest:\u001b[39;22m Test\u001b[32m(0.26s)\u001b[39m\n",
      "- \u001b[35;1mTest03_LinesBasicCest:\u001b[39;22m Test"
     ]
    },
    {
     "name": "stderr",
     "output_type": "stream",
     "text": [
      "[Thu Mar 14 09:51:10 2024] [::1]:58472 Accepted\n",
      "[Thu Mar 14 09:51:10 2024] [::1]:58472 [200]: GET /\n",
      "[Thu Mar 14 09:51:10 2024] [::1]:58472 Closing\n",
      "[Thu Mar 14 09:51:10 2024] [::1]:58478 Accepted\n",
      "[Thu Mar 14 09:51:10 2024] [::1]:58478 [200]: POST /\n",
      "[Thu Mar 14 09:51:10 2024] [::1]:58478 Closing\n",
      "[Thu Mar 14 09:51:11 2024] [::1]:58486 Accepted\n",
      "[Thu Mar 14 09:51:11 2024] [::1]:58486 [200]: GET /?x=1&z=1\n",
      "[Thu Mar 14 09:51:11 2024] [::1]:58486 Closing\n",
      "[Thu Mar 14 09:51:11 2024] [::1]:58496 Accepted\n",
      "[Thu Mar 14 09:51:11 2024] [::1]:58496 [200]: GET /?x=8&z=8\n",
      "[Thu Mar 14 09:51:11 2024] [::1]:58496 Closing\n",
      "[Thu Mar 14 09:51:11 2024] [::1]:58510 Accepted\n",
      "[Thu Mar 14 09:51:11 2024] [::1]:58510 [200]: GET /?x=8&z=1\n",
      "[Thu Mar 14 09:51:11 2024] [::1]:58510 Closing\n",
      "[Thu Mar 14 09:51:11 2024] [::1]:58518 Accepted\n",
      "[Thu Mar 14 09:51:11 2024] [::1]:58518 [200]: GET /?x=1&z=8\n",
      "[Thu Mar 14 09:51:11 2024] [::1]:58518 Closing\n"
     ]
    },
    {
     "name": "stdout",
     "output_type": "stream",
     "text": [
      "\u001b[32;1m✔\u001b[39;22m \u001b[35;1mTest03_LinesBasicCest:\u001b[39;22m Test\u001b[32m(1.12s)\u001b[39m\n",
      "- \u001b[35;1mTest04_LinesAdvancedCest:\u001b[39;22m Test"
     ]
    },
    {
     "name": "stderr",
     "output_type": "stream",
     "text": [
      "[Thu Mar 14 09:51:11 2024] [::1]:58522 Accepted\n",
      "[Thu Mar 14 09:51:11 2024] [::1]:58522 [200]: GET /\n",
      "[Thu Mar 14 09:51:11 2024] [::1]:58522 Closing\n",
      "[Thu Mar 14 09:51:12 2024] [::1]:58532 Accepted\n",
      "[Thu Mar 14 09:51:12 2024] [::1]:58532 [200]: POST /\n",
      "[Thu Mar 14 09:51:12 2024] [::1]:58532 Closing\n",
      "[Thu Mar 14 09:51:12 2024] [::1]:58534 Accepted\n",
      "[Thu Mar 14 09:51:12 2024] [::1]:58534 [200]: GET /?x=4&z=0\n",
      "[Thu Mar 14 09:51:12 2024] [::1]:58534 Closing\n",
      "[Thu Mar 14 09:51:12 2024] [::1]:36994 Accepted\n",
      "[Thu Mar 14 09:51:12 2024] [::1]:36994 [200]: GET /?x=5&z=9\n",
      "[Thu Mar 14 09:51:12 2024] [::1]:36994 Closing\n",
      "[Thu Mar 14 09:51:12 2024] [::1]:37002 Accepted\n",
      "[Thu Mar 14 09:51:12 2024] [::1]:37002 [200]: GET /?x=0&z=4\n",
      "[Thu Mar 14 09:51:12 2024] [::1]:37002 Closing\n",
      "[Thu Mar 14 09:51:12 2024] [::1]:37004 Accepted\n",
      "[Thu Mar 14 09:51:12 2024] [::1]:37004 [200]: GET /?x=9&z=5\n",
      "[Thu Mar 14 09:51:12 2024] [::1]:37004 Closing\n",
      "[Thu Mar 14 09:51:13 2024] [::1]:37012 Accepted\n",
      "[Thu Mar 14 09:51:13 2024] [::1]:37012 [200]: GET /\n",
      "[Thu Mar 14 09:51:13 2024] [::1]:37012 Closing\n",
      "[Thu Mar 14 09:51:13 2024] [::1]:37016 Accepted\n",
      "[Thu Mar 14 09:51:13 2024] [::1]:37016 [200]: POST /\n",
      "[Thu Mar 14 09:51:13 2024] [::1]:37016 Closing\n",
      "[Thu Mar 14 09:51:13 2024] [::1]:37028 Accepted\n",
      "[Thu Mar 14 09:51:13 2024] [::1]:37028 [200]: GET /?x=1&z=0\n",
      "[Thu Mar 14 09:51:13 2024] [::1]:37028 Closing\n",
      "[Thu Mar 14 09:51:13 2024] [::1]:37044 Accepted\n",
      "[Thu Mar 14 09:51:13 2024] [::1]:37044 [200]: GET /?x=5&z=9\n",
      "[Thu Mar 14 09:51:13 2024] [::1]:37044 Closing\n",
      "[Thu Mar 14 09:51:13 2024] [::1]:37052 Accepted\n",
      "[Thu Mar 14 09:51:13 2024] [::1]:37052 [200]: GET /?x=3&z=0\n",
      "[Thu Mar 14 09:51:13 2024] [::1]:37052 Closing\n",
      "[Thu Mar 14 09:51:14 2024] [::1]:37062 Accepted\n",
      "[Thu Mar 14 09:51:14 2024] [::1]:37062 [200]: GET /?x=9&z=9\n",
      "[Thu Mar 14 09:51:14 2024] [::1]:37062 Closing\n"
     ]
    },
    {
     "name": "stdout",
     "output_type": "stream",
     "text": [
      "\u001b[32;1m✔\u001b[39;22m \u001b[35;1mTest04_LinesAdvancedCest:\u001b[39;22m Test\u001b[32m(2.27s)\u001b[39m\n",
      "--------------------------------------------------------------------------------\n",
      "Time: 00:03.918, Memory: 16.00 MB\n",
      "\n",
      "\u001b[30;42mOK (4 tests, 1916 assertions)\u001b[39;49m\n"
     ]
    }
   ],
   "source": [
    "! cd tests && composer install && vendor/bin/codecept run"
   ]
  },
  {
   "cell_type": "code",
   "execution_count": 42,
   "metadata": {},
   "outputs": [],
   "source": [
    "phpServer.kill()"
   ]
  },
  {
   "cell_type": "code",
   "execution_count": null,
   "metadata": {},
   "outputs": [],
   "source": []
  }
 ],
 "metadata": {
  "kernelspec": {
   "display_name": "Python 3 (ipykernel)",
   "language": "python",
   "name": "python3"
  },
  "language_info": {
   "codemirror_mode": {
    "name": "ipython",
    "version": 3
   },
   "file_extension": ".py",
   "mimetype": "text/x-python",
   "name": "python",
   "nbconvert_exporter": "python",
   "pygments_lexer": "ipython3",
   "version": "3.11.5"
  }
 },
 "nbformat": 4,
 "nbformat_minor": 4
}
